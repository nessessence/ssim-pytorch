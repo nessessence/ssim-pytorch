{
 "cells": [
  {
   "cell_type": "code",
   "execution_count": 1,
   "metadata": {},
   "outputs": [],
   "source": [
    "import torch\n",
    "from torchvision import transforms\n",
    "from modules.ssim import ssim\n",
    "from torch.utils.data import DataLoader\n",
    "from datasets.custom_dataset import CustomDataSet"
   ]
  },
  {
   "cell_type": "code",
   "execution_count": 2,
   "metadata": {},
   "outputs": [],
   "source": [
    "n_sample = 10\n",
    "a = torch.randn(n_sample, 3, 128, 128)\n",
    "b = torch.randn(n_sample, 3, 128, 128)"
   ]
  },
  {
   "cell_type": "code",
   "execution_count": 3,
   "metadata": {},
   "outputs": [
    {
     "data": {
      "text/plain": [
       "tensor(0.0065)"
      ]
     },
     "execution_count": 3,
     "metadata": {},
     "output_type": "execute_result"
    }
   ],
   "source": [
    "ssim(a, b, size_average=False).mean()"
   ]
  },
  {
   "cell_type": "code",
   "execution_count": 4,
   "metadata": {},
   "outputs": [
    {
     "name": "stdout",
     "output_type": "stream",
     "text": [
      "total images to be process: 30000 images\n"
     ]
    }
   ],
   "source": [
    "data_path = '/home/nessessence/DDPM/stylegan2-pytorch/datasets/CelebA-HQ-img'\n",
    "\n",
    "img_size = 128\n",
    "transform = transforms.Compose(\n",
    "    [\n",
    "        transforms.Resize(img_size),\n",
    "        transforms.ToTensor(),\n",
    "    ]\n",
    ")\n",
    "\n",
    "my_dataset = CustomDataSet(data_path,transform=transform)"
   ]
  },
  {
   "cell_type": "code",
   "execution_count": 5,
   "metadata": {},
   "outputs": [],
   "source": [
    "batch_size = 512\n",
    "dataloader = DataLoader(my_dataset , batch_size=batch_size, shuffle=False, \n",
    "                               num_workers=4, drop_last=False)"
   ]
  },
  {
   "cell_type": "code",
   "execution_count": 8,
   "metadata": {},
   "outputs": [
    {
     "data": {
      "text/plain": [
       "tensor([[[0.9412, 0.9412, 0.9412,  ..., 0.9373, 0.9373, 0.9373],\n",
       "         [0.9412, 0.9412, 0.9412,  ..., 0.9373, 0.9333, 0.9373],\n",
       "         [0.9412, 0.9412, 0.9373,  ..., 0.9373, 0.9373, 0.9373],\n",
       "         ...,\n",
       "         [0.2314, 0.2275, 0.2235,  ..., 0.4784, 0.4745, 0.4549],\n",
       "         [0.2275, 0.2196, 0.2353,  ..., 0.3961, 0.3961, 0.4000],\n",
       "         [0.2549, 0.2667, 0.2510,  ..., 0.4431, 0.4275, 0.4510]],\n",
       "\n",
       "        [[0.9412, 0.9412, 0.9412,  ..., 0.9373, 0.9373, 0.9373],\n",
       "         [0.9412, 0.9412, 0.9412,  ..., 0.9373, 0.9333, 0.9373],\n",
       "         [0.9412, 0.9412, 0.9373,  ..., 0.9373, 0.9373, 0.9373],\n",
       "         ...,\n",
       "         [0.1569, 0.1529, 0.1490,  ..., 0.3804, 0.3725, 0.3608],\n",
       "         [0.1529, 0.1490, 0.1647,  ..., 0.2941, 0.2980, 0.3059],\n",
       "         [0.1843, 0.1961, 0.1843,  ..., 0.3647, 0.3412, 0.3647]],\n",
       "\n",
       "        [[0.9412, 0.9412, 0.9412,  ..., 0.9373, 0.9373, 0.9373],\n",
       "         [0.9412, 0.9412, 0.9412,  ..., 0.9373, 0.9333, 0.9373],\n",
       "         [0.9412, 0.9412, 0.9373,  ..., 0.9373, 0.9373, 0.9373],\n",
       "         ...,\n",
       "         [0.0902, 0.0902, 0.0902,  ..., 0.2941, 0.2863, 0.2784],\n",
       "         [0.0863, 0.0863, 0.1059,  ..., 0.2039, 0.2039, 0.2157],\n",
       "         [0.1020, 0.1176, 0.1137,  ..., 0.2902, 0.2667, 0.2902]]])"
      ]
     },
     "execution_count": 8,
     "metadata": {},
     "output_type": "execute_result"
    }
   ],
   "source": [
    "img = my_dataset[0]\n",
    "img"
   ]
  },
  {
   "cell_type": "code",
   "execution_count": 10,
   "metadata": {},
   "outputs": [
    {
     "name": "stdout",
     "output_type": "stream",
     "text": [
      "tensor(0.) tensor(0.9569)\n"
     ]
    }
   ],
   "source": [
    "print(img.min(), img.max())   "
   ]
  },
  {
   "cell_type": "code",
   "execution_count": null,
   "metadata": {},
   "outputs": [],
   "source": []
  }
 ],
 "metadata": {
  "interpreter": {
   "hash": "96b14ff4ff16b345aaf126ac53832fdbcecebc34ae59d6bb7d50f782e7eaf3f8"
  },
  "kernelspec": {
   "display_name": "Python 3.7.11 64-bit ('ssim': conda)",
   "name": "python3"
  },
  "language_info": {
   "codemirror_mode": {
    "name": "ipython",
    "version": 3
   },
   "file_extension": ".py",
   "mimetype": "text/x-python",
   "name": "python",
   "nbconvert_exporter": "python",
   "pygments_lexer": "ipython3",
   "version": "3.7.11"
  },
  "orig_nbformat": 4
 },
 "nbformat": 4,
 "nbformat_minor": 2
}
